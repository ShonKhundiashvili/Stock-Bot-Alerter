{
 "cells": [
  {
   "cell_type": "code",
   "execution_count": 1,
   "id": "09d04965",
   "metadata": {},
   "outputs": [],
   "source": [
    "import pandas as pd\n",
    "import yfinance as yf\n",
    "import smtplib\n",
    "from email.mime.text import MIMEText\n",
    "import os\n",
    "from dotenv import load_dotenv"
   ]
  },
  {
   "cell_type": "code",
   "execution_count": 4,
   "id": "e85fd781",
   "metadata": {},
   "outputs": [],
   "source": [
    "# Load CSV file (replace 'stocks.csv' with your file name)\n",
    "df = pd.read_csv(\"QQQtickers.csv\")\n",
    "\n",
    "stock_symbols = df[\"Ticker\"].tolist()\n",
    "\n",
    "def get_stock_data(stock):\n",
    "    data = yf.Ticker(stock).history(period=\"9mo\")\n",
    "    data[\"MA_150\"] = data[\"Close\"].rolling(window=150).mean()\n",
    "    \n",
    "    latest_price = data[\"Close\"].iloc[-1]\n",
    "    latest_ma_150 = data[\"MA_150\"].iloc[-1]\n",
    "\n",
    "    return latest_price, latest_ma_150\n",
    "\n",
    "def is_near_ma_150(stock):\n",
    "    price, ma_150 = get_stock_data(stock)\n",
    "\n",
    "    # Define threshold for closeness (2%)\n",
    "    lower_bound = ma_150 * 0.98\n",
    "    upper_bound = ma_150 * 1.02\n",
    "\n",
    "    if lower_bound <= price <= upper_bound:\n",
    "        return f\"🔔 {stock} ALERT: Price ${price:.2f} is near MA 150 (${ma_150:.2f})\"\n",
    "    \n",
    "    return None\n",
    "\n",
    "def send_email_alert(message):\n",
    "    \"\"\"Send an email alert when stock is near MA 150\"\"\"\n",
    "    msg = MIMEText(message)\n",
    "    msg[\"Subject\"] = \"Stock Alert: MA 150 Triggered!\"\n",
    "    msg[\"From\"] = EMAIL_SENDER\n",
    "    msg[\"To\"] = EMAIL_RECEIVER\n",
    "\n",
    "    try:\n",
    "        with smtplib.SMTP(SMTP_SERVER, SMTP_PORT) as server:\n",
    "            server.starttls()\n",
    "            server.login(EMAIL_SENDER, EMAIL_PASSWORD)\n",
    "            server.sendmail(EMAIL_SENDER, EMAIL_RECEIVER, msg.as_string())\n",
    "        print(\"📩 Email sent successfully!\")\n",
    "    except Exception as e:\n",
    "        print(f\"⚠ Error sending email: {e}\")"
   ]
  },
  {
   "cell_type": "code",
   "execution_count": 5,
   "id": "a8be0768",
   "metadata": {},
   "outputs": [
    {
     "name": "stdout",
     "output_type": "stream",
     "text": [
      "🔔 AVGO ALERT: Price $189.91 is near MA 150 ($190.58)\n",
      "🔔 META ALERT: Price $586.68 is near MA 150 ($596.84)\n",
      "🔔 LIN ALERT: Price $457.90 is near MA 150 ($453.76)\n",
      "🔔 BKNG ALERT: Price $4606.49 is near MA 150 ($4588.05)\n",
      "🔔 HON ALERT: Price $210.17 is near MA 150 ($213.63)\n",
      "🔔 PANW ALERT: Price $184.64 is near MA 150 ($184.16)\n",
      "🔔 SBUX ALERT: Price $99.40 is near MA 150 ($98.29)\n",
      "🔔 LRCX ALERT: Price $77.75 is near MA 150 ($77.59)\n",
      "🔔 KLAC ALERT: Price $714.48 is near MA 150 ($711.60)\n",
      "🔔 WDAY ALERT: Price $250.36 is near MA 150 ($254.24)\n",
      "🔔 KDP ALERT: Price $33.37 is near MA 150 ($33.72)\n",
      "🔔 FAST ALERT: Price $75.53 is near MA 150 ($74.35)\n",
      "🔔 LULU ALERT: Price $323.68 is near MA 150 ($328.58)\n",
      "🔔 EA ALERT: Price $143.40 is near MA 150 ($144.68)\n",
      "🔔 TEAM ALERT: Price $225.93 is near MA 150 ($228.07)\n"
     ]
    }
   ],
   "source": [
    "for stock in stock_symbols:\n",
    "    alert_message = is_near_ma_150(stock)\n",
    "    if alert_message:\n",
    "        print(alert_message)"
   ]
  },
  {
   "cell_type": "code",
   "execution_count": null,
   "id": "2edb7ea7",
   "metadata": {},
   "outputs": [],
   "source": []
  }
 ],
 "metadata": {
  "kernelspec": {
   "display_name": "Python 3",
   "language": "python",
   "name": "python3"
  },
  "language_info": {
   "codemirror_mode": {
    "name": "ipython",
    "version": 3
   },
   "file_extension": ".py",
   "mimetype": "text/x-python",
   "name": "python",
   "nbconvert_exporter": "python",
   "pygments_lexer": "ipython3",
   "version": "3.8.8"
  }
 },
 "nbformat": 4,
 "nbformat_minor": 5
}
