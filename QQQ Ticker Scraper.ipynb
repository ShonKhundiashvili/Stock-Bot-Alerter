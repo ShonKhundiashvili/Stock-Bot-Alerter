{
 "cells": [
  {
   "cell_type": "code",
   "execution_count": 1,
   "id": "1d2f73d5",
   "metadata": {},
   "outputs": [],
   "source": [
    "from selenium import webdriver\n",
    "from selenium.webdriver.common.by import By\n",
    "import pandas as pd\n",
    "import time\n",
    "from selenium import webdriver\n",
    "from selenium.webdriver.support.ui import WebDriverWait\n",
    "from selenium.webdriver.support import expected_conditions as EC"
   ]
  },
  {
   "cell_type": "code",
   "execution_count": 3,
   "id": "0c22dcbc",
   "metadata": {},
   "outputs": [
    {
     "name": "stdout",
     "output_type": "stream",
     "text": [
      "Skipping row due to error: Message: no such element: Unable to locate element: {\"method\":\"tag name\",\"selector\":\"a\"}\n",
      "  (Session info: chrome=134.0.6998.89); For documentation on this error, please visit: https://www.selenium.dev/documentation/webdriver/troubleshooting/errors#no-such-element-exception\n",
      "Stacktrace:\n",
      "\tGetHandleVerifier [0x00007FF6A55CFE65+26629]\n",
      "\t(No symbol) [0x00007FF6A5536030]\n",
      "\t(No symbol) [0x00007FF6A53C931A]\n",
      "\t(No symbol) [0x00007FF6A541F8E7]\n",
      "\t(No symbol) [0x00007FF6A541FB1C]\n",
      "\t(No symbol) [0x00007FF6A541228C]\n",
      "\t(No symbol) [0x00007FF6A5447AEF]\n",
      "\t(No symbol) [0x00007FF6A5412156]\n",
      "\t(No symbol) [0x00007FF6A5447CC0]\n",
      "\t(No symbol) [0x00007FF6A5470169]\n",
      "\t(No symbol) [0x00007FF6A5447883]\n",
      "\t(No symbol) [0x00007FF6A5410550]\n",
      "\t(No symbol) [0x00007FF6A5411803]\n",
      "\tGetHandleVerifier [0x00007FF6A59272DD+3529853]\n",
      "\tGetHandleVerifier [0x00007FF6A593DA42+3621858]\n",
      "\tGetHandleVerifier [0x00007FF6A59324F3+3575443]\n",
      "\tGetHandleVerifier [0x00007FF6A569B79A+860474]\n",
      "\t(No symbol) [0x00007FF6A55408AF]\n",
      "\t(No symbol) [0x00007FF6A553CBE4]\n",
      "\t(No symbol) [0x00007FF6A553CD86]\n",
      "\t(No symbol) [0x00007FF6A552C2E9]\n",
      "\tBaseThreadInitThunk [0x00007FFB207C7374+20]\n",
      "\tRtlUserThreadStart [0x00007FFB20FBCC91+33]\n",
      "\n",
      "Tickers saved to tickers.csv\n"
     ]
    }
   ],
   "source": [
    "driver = webdriver.Chrome()\n",
    "url = 'https://stockanalysis.com/etf/qqq/holdings/'\n",
    "try:\n",
    "    driver.get(url)\n",
    "    \n",
    "    WebDriverWait(driver, 10).until(\n",
    "        EC.presence_of_element_located((By.TAG_NAME, 'tbody'))\n",
    "    )\n",
    "\n",
    "    # Locate stock container\n",
    "    container_of_stocks = driver.find_element(By.TAG_NAME, 'tbody')\n",
    "    stocks = container_of_stocks.find_elements(By.TAG_NAME, 'tr')\n",
    "\n",
    "    # Extract tickers\n",
    "    tickers = []\n",
    "    for stock in stocks:\n",
    "        try:\n",
    "            symbol = stock.find_element(By.TAG_NAME, 'a').text\n",
    "            tickers.append(symbol)\n",
    "        except Exception as e:\n",
    "            print(f\"Skipping row due to error: {e}\")\n",
    "\n",
    "    # Save tickers to CSV\n",
    "    df = pd.DataFrame(tickers, columns=[\"Ticker\"])\n",
    "    df.to_csv(\"tickers.csv\", index=False)\n",
    "    print(\"Tickers saved to tickers.csv\")\n",
    "\n",
    "except Exception as e:\n",
    "    print(f\"An error occurred: {e}\")\n",
    "\n",
    "finally:\n",
    "    driver.quit()"
   ]
  },
  {
   "cell_type": "code",
   "execution_count": null,
   "id": "31104e5b",
   "metadata": {},
   "outputs": [],
   "source": []
  }
 ],
 "metadata": {
  "kernelspec": {
   "display_name": "Python 3",
   "language": "python",
   "name": "python3"
  },
  "language_info": {
   "codemirror_mode": {
    "name": "ipython",
    "version": 3
   },
   "file_extension": ".py",
   "mimetype": "text/x-python",
   "name": "python",
   "nbconvert_exporter": "python",
   "pygments_lexer": "ipython3",
   "version": "3.8.8"
  }
 },
 "nbformat": 4,
 "nbformat_minor": 5
}
