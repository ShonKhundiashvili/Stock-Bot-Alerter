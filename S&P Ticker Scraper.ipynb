{
 "cells": [
  {
   "cell_type": "code",
   "execution_count": 1,
   "id": "a20a5c41",
   "metadata": {},
   "outputs": [],
   "source": [
    "from selenium import webdriver\n",
    "from selenium.webdriver.common.by import By\n",
    "import pandas as pd\n",
    "import time\n",
    "from selenium import webdriver\n",
    "from selenium.webdriver.support.ui import WebDriverWait\n",
    "from selenium.webdriver.support import expected_conditions as EC"
   ]
  },
  {
   "cell_type": "code",
   "execution_count": 2,
   "id": "1fd872ee",
   "metadata": {},
   "outputs": [
    {
     "name": "stdout",
     "output_type": "stream",
     "text": [
      "Skipping row due to error: Message: no such element: Unable to locate element: {\"method\":\"tag name\",\"selector\":\"a\"}\n",
      "  (Session info: chrome=134.0.6998.118); For documentation on this error, please visit: https://www.selenium.dev/documentation/webdriver/troubleshooting/errors#no-such-element-exception\n",
      "Stacktrace:\n",
      "\tGetHandleVerifier [0x00007FF6D649FE65+26629]\n",
      "\t(No symbol) [0x00007FF6D6406030]\n",
      "\t(No symbol) [0x00007FF6D629931A]\n",
      "\t(No symbol) [0x00007FF6D62EF8E7]\n",
      "\t(No symbol) [0x00007FF6D62EFB1C]\n",
      "\t(No symbol) [0x00007FF6D62E228C]\n",
      "\t(No symbol) [0x00007FF6D6317AEF]\n",
      "\t(No symbol) [0x00007FF6D62E2156]\n",
      "\t(No symbol) [0x00007FF6D6317CC0]\n",
      "\t(No symbol) [0x00007FF6D6340169]\n",
      "\t(No symbol) [0x00007FF6D6317883]\n",
      "\t(No symbol) [0x00007FF6D62E0550]\n",
      "\t(No symbol) [0x00007FF6D62E1803]\n",
      "\tGetHandleVerifier [0x00007FF6D67F72DD+3529853]\n",
      "\tGetHandleVerifier [0x00007FF6D680DA42+3621858]\n",
      "\tGetHandleVerifier [0x00007FF6D68024F3+3575443]\n",
      "\tGetHandleVerifier [0x00007FF6D656B79A+860474]\n",
      "\t(No symbol) [0x00007FF6D64108AF]\n",
      "\t(No symbol) [0x00007FF6D640CBE4]\n",
      "\t(No symbol) [0x00007FF6D640CD86]\n",
      "\t(No symbol) [0x00007FF6D63FC2E9]\n",
      "\tBaseThreadInitThunk [0x00007FFDF1D37374+20]\n",
      "\tRtlUserThreadStart [0x00007FFDF205CC91+33]\n",
      "\n",
      "Tickers saved to tickers.csv\n"
     ]
    }
   ],
   "source": [
    "driver = webdriver.Chrome()\n",
    "url = 'https://stockanalysis.com/etf/spy/holdings/'\n",
    "try:\n",
    "    driver.get(url)\n",
    "    \n",
    "    WebDriverWait(driver, 10).until(\n",
    "        EC.presence_of_element_located((By.TAG_NAME, 'tbody'))\n",
    "    )\n",
    "\n",
    "    # Locate stock container\n",
    "    container_of_stocks = driver.find_element(By.TAG_NAME, 'tbody')\n",
    "    stocks = container_of_stocks.find_elements(By.TAG_NAME, 'tr')\n",
    "\n",
    "    # Extract tickers\n",
    "    tickers = []\n",
    "    for stock in stocks:\n",
    "        try:\n",
    "            symbol = stock.find_element(By.TAG_NAME, 'a').text\n",
    "            tickers.append(symbol)\n",
    "        except Exception as e:\n",
    "            print(f\"Skipping row due to error: {e}\")\n",
    "\n",
    "    # Save tickers to CSV\n",
    "    df = pd.DataFrame(tickers, columns=[\"Ticker\"])\n",
    "    df.to_csv(\"tickers.csv\", index=False)\n",
    "    print(\"Tickers saved to tickers.csv\")\n",
    "\n",
    "except Exception as e:\n",
    "    print(f\"An error occurred: {e}\")\n",
    "\n",
    "finally:\n",
    "    driver.quit()"
   ]
  }
 ],
 "metadata": {
  "kernelspec": {
   "display_name": "Python 3",
   "language": "python",
   "name": "python3"
  },
  "language_info": {
   "codemirror_mode": {
    "name": "ipython",
    "version": 3
   },
   "file_extension": ".py",
   "mimetype": "text/x-python",
   "name": "python",
   "nbconvert_exporter": "python",
   "pygments_lexer": "ipython3",
   "version": "3.8.8"
  }
 },
 "nbformat": 4,
 "nbformat_minor": 5
}
